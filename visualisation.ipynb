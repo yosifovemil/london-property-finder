{
 "cells": [
  {
   "cell_type": "code",
   "execution_count": 1,
   "metadata": {},
   "outputs": [],
   "source": [
    "import folium\n",
    "from property_finder.database import Database\n",
    "import json\n",
    "from datetime import datetime\n",
    "import pandas as pd\n",
    "\n",
    "\n",
    "with open('config.json') as json_data_file:\n",
    "    config = json.load(json_data_file)\n",
    "    \n",
    "database = Database(database_path='data/database_old.db', reset_db=False)\n",
    "\n",
    "locations = database.read_from_sql(\"\"\"\n",
    "SELECT Property.ID, Property.Price, Property.URL, Property.Bedrooms,\n",
    "Location.Latitude, Location.Longitude, LSOA.MultipleDeprivationIndex,\n",
    "Travel.JourneyDuration, Travel.JourneyFare \n",
    "FROM Property\n",
    "LEFT JOIN Location\n",
    "ON Property.ID = Location.ID\n",
    "LEFT JOIN LSOA \n",
    "ON Property.ID = LSOA.ID\n",
    "LEFT JOIN Travel\n",
    "ON Property.ID = Travel.ID\n",
    "WHERE Location.Longitude IS NOT NULL\n",
    "AND LSOA.MultipleDeprivationIndex IS NOT NULL\"\"\")\n",
    "\n",
    "locations.MultipleDeprivationIndex = locations.MultipleDeprivationIndex.astype(int)\n",
    "locations['Color'] = pd.cut(locations.MultipleDeprivationIndex,\n",
    "                            bins=4,\n",
    "                            labels=['red', 'orange', 'yellow', 'green'])\n",
    "\n",
    "locations.loc[locations.JourneyFare.isnull(), 'JourneyFare'] = 0\n",
    "locations.loc[locations.JourneyDuration.isnull(), 'JourneyDuration'] = 0"
   ]
  },
  {
   "cell_type": "code",
   "execution_count": 2,
   "metadata": {},
   "outputs": [],
   "source": [
    "def minutes_to_hhmm(minutes):\n",
    "    mm = minutes % 60\n",
    "    hh = int(minutes / 60)\n",
    "    \n",
    "    return '%dh %dmin' % (hh, mm)\n",
    "\n",
    "\n",
    "def plot_map(locations, output_file='map.html', max_journey_time=None, min_mdi=None, min_bedrooms=None):\n",
    "    if max_journey_time is not None:\n",
    "        locations = locations[locations.JourneyDuration <= max_journey_time]\n",
    "        \n",
    "    if min_mdi is not None:\n",
    "        locations = locations[locations.MultipleDeprivationIndex >= min_mdi]\n",
    "\n",
    "    if min_bedrooms is not None:\n",
    "        locations = locations[locations.Bedrooms >= min_bedrooms]\n",
    "    \n",
    "    m = folium.Map(location=[51.509865, -0.118092])\n",
    "    tooltip_string = \"\"\"Price: %f<br>\n",
    "    Bedrooms: %d<br>\n",
    "    MultipleDeprivationIndex: %d<br>\n",
    "    JourneyDuration: %s <br>\n",
    "    JourneyFare: %f\"\"\"\n",
    "\n",
    "\n",
    "    for id_val, location in locations.iterrows():\n",
    "        tooltip = tooltip_string % (location.Price, location.Bedrooms,\n",
    "                                    location.MultipleDeprivationIndex,\n",
    "                                    minutes_to_hhmm(location.JourneyDuration), \n",
    "                                    location.JourneyFare)\n",
    "        popup = folium.Popup('<a href=\"%s\" target=\"_blank\">Rightmove webpage</a>' % location.URL)\n",
    "\n",
    "        marker = folium.CircleMarker(location=[location.Latitude, location.Longitude],\n",
    "                                     radius=7, color=location.Color, fill=location.Color,\n",
    "                                     tooltip=tooltip, popup=popup)\n",
    "        marker.add_to(m)\n",
    "\n",
    "    m.save(output_file)"
   ]
  },
  {
   "cell_type": "code",
   "execution_count": 3,
   "metadata": {},
   "outputs": [],
   "source": [
    "plot_map(locations)"
   ]
  },
  {
   "cell_type": "code",
   "execution_count": 4,
   "metadata": {},
   "outputs": [],
   "source": [
    "plot_map(locations, output_file='map_filtered.html', max_journey_time=90, min_mdi=5000)"
   ]
  },
  {
   "cell_type": "code",
   "execution_count": null,
   "metadata": {},
   "outputs": [],
   "source": []
  }
 ],
 "metadata": {
  "kernelspec": {
   "display_name": "Python 3",
   "language": "python",
   "name": "python3"
  },
  "language_info": {
   "codemirror_mode": {
    "name": "ipython",
    "version": 3
   },
   "file_extension": ".py",
   "mimetype": "text/x-python",
   "name": "python",
   "nbconvert_exporter": "python",
   "pygments_lexer": "ipython3",
   "version": "3.5.3"
  }
 },
 "nbformat": 4,
 "nbformat_minor": 2
}
